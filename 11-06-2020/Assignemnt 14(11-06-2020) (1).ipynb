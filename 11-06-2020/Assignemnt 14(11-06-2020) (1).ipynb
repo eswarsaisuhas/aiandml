{
 "cells": [
  {
   "cell_type": "markdown",
   "metadata": {},
   "source": [
    "##  CSE -221710304030- K Eswar Sai Suhas Reddy"
   ]
  },
  {
   "cell_type": "code",
   "execution_count": null,
   "metadata": {},
   "outputs": [],
   "source": [
    "#Chef has a string\n",
    "if __name__=='__main__':\n",
    "    for _ in range(int(input())):\n",
    "        s=input()\n",
    "        u=s[1:]+s[0]\n",
    "        k=s[-1]+s[:-1]\n",
    "        if k==u:\n",
    "            print('YES')\n",
    "        else:\n",
    "            print('NO')"
   ]
  },
  {
   "cell_type": "code",
   "execution_count": null,
   "metadata": {},
   "outputs": [],
   "source": [
    "# Beautiful Days at the Movies\n",
    "i,j,k = [int(x) for x in input().split()]\n",
    "count=0\n",
    "while i<=j:\n",
    "    rev=int(str(i)[::-1])\n",
    "    if (i-rev)%k==0:\n",
    "        count+=1 \n",
    "    i+=1\n",
    "print(count)\n",
    "        \n",
    "    "
   ]
  },
  {
   "cell_type": "code",
   "execution_count": null,
   "metadata": {},
   "outputs": [],
   "source": [
    "#Birthday Cake Candles\n",
    "input()\n",
    "arr = input().split()\n",
    "print(arr.count(max(arr)))"
   ]
  },
  {
   "cell_type": "code",
   "execution_count": null,
   "metadata": {},
   "outputs": [],
   "source": [
    "# For a given positive number num,identify the palindrome formed by performing the following operations\n",
    "#Add num and its reverse\n",
    "#Check whether the sum is palindrome or not.\n",
    "#If not,add the sum and its reverse and repeat the process until a palindrome is obtained.\n",
    "\n",
    "def reverse_num(n):\n",
    "    num = str(n)\n",
    "    rev_num = \"\"                      \n",
    "    x = len(num) - 1    \n",
    "    for i in range(x,-1,-1):      \n",
    "        digit = num[i]                         \n",
    "        rev_num = rev_num + digit              \n",
    "    return rev_num\n",
    "def is_palindrome(n):\n",
    "    num = str(n)\n",
    "    rev_num = reverse_num(n)\n",
    "    return num==rev_num\n",
    "number=int(input(''))\n",
    "step = 0\n",
    "our_limit = 1000\n",
    " \n",
    "while(not is_palindrome(number) and step < our_limit):\n",
    "    step = step + 1\n",
    "    rev_num = reverse_num(number)\n",
    "    number = number + int(rev_num) \n",
    "print (number)"
   ]
  },
  {
   "cell_type": "code",
   "execution_count": null,
   "metadata": {},
   "outputs": [],
   "source": [
    "import itertools as it\n",
    "a=list(map(str,input().split(',')))\n",
    "p = it.permutations(a, len(a))\n",
    "x = list(set(p))               \n",
    "l = []\n",
    "for i in x:                          \n",
    "    p = ''.join(i)                   \n",
    "    l.append(int(p))\n",
    "l.sort()\n",
    "print(str(l[-1])+','+str(len(l)))"
   ]
  },
  {
   "cell_type": "code",
   "execution_count": null,
   "metadata": {},
   "outputs": [],
   "source": [
    "# second largest number\n",
    "t=int(input())\n",
    "while t:\n",
    "    a=input().split()\n",
    "    n=int(a[0])\n",
    "    k=int(a[1])\n",
    "    lst=input().split()\n",
    "    for i in range(n):\n",
    "        lst[i] = int(lst[i])\n",
    "    greater = 0\n",
    "    length=0\n",
    "    pos = -1\n",
    "    allTimeLong=0\n",
    "    for i in range(n):\n",
    "        if lst[i]>k and greater!=0 and lst[i]!=greater:\n",
    "            greater = lst[i]\n",
    "            if allTimeLong<length:\n",
    "                allTimeLong=length\n",
    "            length = i - pos\n",
    "            pos=i\n",
    "            continue\n",
    "        elif lst[i]>k:\n",
    "            greater = lst[i]\n",
    "            pos=i\n",
    "        length+=1\n",
    "    if allTimeLong<length:\n",
    "        allTimeLong=length\n",
    "    t-=1\n",
    "    print(allTimeLong)"
   ]
  },
  {
   "cell_type": "code",
   "execution_count": 1,
   "metadata": {},
   "outputs": [
    {
     "name": "stdout",
     "output_type": "stream",
     "text": [
      "xyz:750,abc:265,qwerty:195\n"
     ]
    },
    {
     "data": {
      "text/plain": [
       "'abc'"
      ]
     },
     "execution_count": 1,
     "metadata": {},
     "output_type": "execute_result"
    }
   ],
   "source": [
    "#xyz:750,abc:265,qwerty:195\n",
    "s=input()\n",
    "list1=s.split(\",\")\n",
    "list2=[i.split(\":\")[1] for i in list1]\n",
    "list3=[]\n",
    "for num in list2:\n",
    "    n=int(num)\n",
    "    rev=num[::-1]\n",
    "    while str(n)!=rev:\n",
    "        n+=int(rev)\n",
    "        rev=str(n)[::-1]\n",
    "    list3.append(n)\n",
    "list1[list3.index(max(list3))].split(\":\")[0]"
   ]
  },
  {
   "cell_type": "code",
   "execution_count": 2,
   "metadata": {},
   "outputs": [
    {
     "name": "stdout",
     "output_type": "stream",
     "text": [
      "{'admin': ['local', 'public', 'administrator'], 'userA': ['local'], 'userB': ['public']}\n"
     ]
    }
   ],
   "source": [
    "#The groups_per_user function receives a dictionary.which contains group names with the list of users.\n",
    "#Users can belong to multiple groups.Return a dictionary with the users as keys and a list of their groups as values.\n",
    "\n",
    "def groups_per_user(groups):\n",
    "    usergroups = {}\n",
    "    for group,users in groups.items():\n",
    "        for user in users:\n",
    "             usergroups[user] = usergroups.get(user,[]) + [group]\n",
    "\n",
    "    return(usergroups)\n",
    "\n",
    "print(groups_per_user({\"local\": [\"admin\", \"userA\"],\n",
    "        \"public\":  [\"admin\", \"userB\"],\n",
    "        \"administrator\": [\"admin\"] }))"
   ]
  },
  {
   "cell_type": "code",
   "execution_count": 3,
   "metadata": {},
   "outputs": [
    {
     "name": "stdout",
     "output_type": "stream",
     "text": [
      "london 40000 12,chicago 60000 20,munich 50000 15,paris 70000 5\n",
      "['london 40000 12', 'chicago 60000 20', 'munich 50000 15', 'paris 70000 5']\n",
      "paris munich "
     ]
    }
   ],
   "source": [
    "#Input : london 40000 12,chicago 60000 20,munich 50000 15,paris 70000 5\n",
    "# Output : paris munich\n",
    "s=input()\n",
    "s1=s.split(',')\n",
    "print(s1)\n",
    "a={}\n",
    "b={}\n",
    "al=[]\n",
    "bl=[]\n",
    "for i in s1:\n",
    "    a1=list(i.split())\n",
    "    a[a1[0]]=int(a1[1])\n",
    "    b[a1[0]]=int(a1[2])\n",
    "a1 = sorted(a.items(), key=lambda x: x[1],reverse=True)\n",
    "b1 = sorted(b.items(), key=lambda x: x[1])\n",
    "for i in a1:\n",
    "    al.append(i[0])\n",
    "for i in b1:\n",
    "    bl.append(i[0])\n",
    "for i in range(0,len(a1)):\n",
    "    if(al[i]==bl[i]):\n",
    "        print(al[i],end=\" \")"
   ]
  },
  {
   "cell_type": "code",
   "execution_count": 4,
   "metadata": {},
   "outputs": [
    {
     "name": "stdout",
     "output_type": "stream",
     "text": [
      "[(8, 0, 0), (3, 5, 0), (0, 5, 3), (5, 0, 3), (5, 3, 0), (2, 3, 3), (2, 5, 1), (7, 0, 1), (7, 1, 0), (4, 1, 3), (4, 4, 0)]\n",
      "11\n"
     ]
    }
   ],
   "source": [
    "capacity = (8,5,3)\n",
    "x = capacity[0]\n",
    "y = capacity[1]\n",
    "z = capacity[2]\n",
    "memory = {}\n",
    "ans = []\n",
    "\n",
    "def get_all_states(state):\n",
    "  a = state[0]\n",
    "  b = state[1]\n",
    "  c = state[2]\n",
    "\n",
    "  if(a==4 and b==4):\n",
    "      ans.append(state)\n",
    "      return True\n",
    "\n",
    "  if((a,b,c) in memory):\n",
    "      return False\n",
    "\n",
    "  memory[(a,b,c)] = 1\n",
    "  if(a>0):\n",
    "      if(a+b<=y):\n",
    "          if( get_all_states((0,a+b,c)) ):\n",
    "              ans.append(state)\n",
    "              return True\n",
    "      else:\n",
    "          if( get_all_states((a-(y-b), y, c)) ):\n",
    "              ans.append(state)\n",
    "              return True\n",
    "      if(a+c<=z):\n",
    "          if( get_all_states((0,b,a+c)) ):\n",
    "              ans.append(state)\n",
    "              return True\n",
    "      else:\n",
    "          if( get_all_states((a-(z-c), b, z)) ):\n",
    "              ans.append(state)\n",
    "              return True\n",
    "  if(b>0):\n",
    "      if(a+b<=x):\n",
    "          if( get_all_states((a+b, 0, c)) ):\n",
    "              ans.append(state)\n",
    "              return True\n",
    "      else:\n",
    "          if( get_all_states((x, b-(x-a), c)) ):\n",
    "              ans.append(state)\n",
    "              return True\n",
    "      if(b+c<=z):\n",
    "          if( get_all_states((a, 0, b+c)) ):\n",
    "              ans.append(state)\n",
    "              return True\n",
    "      else:\n",
    "          if( get_all_states((a, b-(z-c), z)) ):\n",
    "              ans.append(state)\n",
    "              return True\n",
    "  if(c>0):\n",
    "      if(a+c<=x):\n",
    "          if( get_all_states((a+c, b, 0)) ):\n",
    "              ans.append(state)\n",
    "              return True\n",
    "      else:\n",
    "          if( get_all_states((x, b, c-(x-a))) ):\n",
    "              ans.append(state)\n",
    "              return True\n",
    "      if(b+c<=y):\n",
    "          if( get_all_states((a, b+c, 0)) ):\n",
    "              ans.append(state)\n",
    "              return True\n",
    "      else:\n",
    "          if( get_all_states((a, y, c-(y-b))) ):\n",
    "              ans.append(state)\n",
    "              return True\n",
    "\n",
    "  return False\n",
    "\n",
    "initial_state = (8,0,0)\n",
    "get_all_states(initial_state)\n",
    "ans.reverse()\n",
    "print(ans)\n",
    "print(len(ans))"
   ]
  },
  {
   "cell_type": "code",
   "execution_count": null,
   "metadata": {},
   "outputs": [],
   "source": []
  }
 ],
 "metadata": {
  "kernelspec": {
   "display_name": "Python 3",
   "language": "python",
   "name": "python3"
  },
  "language_info": {
   "codemirror_mode": {
    "name": "ipython",
    "version": 3
   },
   "file_extension": ".py",
   "mimetype": "text/x-python",
   "name": "python",
   "nbconvert_exporter": "python",
   "pygments_lexer": "ipython3",
   "version": "3.7.6"
  }
 },
 "nbformat": 4,
 "nbformat_minor": 4
}
