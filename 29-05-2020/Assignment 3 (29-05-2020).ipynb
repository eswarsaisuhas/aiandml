{
 "cells": [
  {
   "cell_type": "markdown",
   "metadata": {},
   "source": [
    "## CSE-22170304030-K ESWAR SAI SUHAS REDDY"
   ]
  },
  {
   "cell_type": "code",
   "execution_count": 6,
   "metadata": {},
   "outputs": [
    {
     "name": "stdout",
     "output_type": "stream",
     "text": [
      "10\n",
      "factorial  of the given no is  3628800\n"
     ]
    }
   ],
   "source": [
    "#Create a function to find Factorial of a number using Recursion\n",
    "def fact(x):\n",
    "    if x==1:\n",
    "        return 1\n",
    "    else:\n",
    "        return x*fact(x-1)\n",
    "\n",
    "n=int(input(''))\n",
    "f=fact(n)\n",
    "print (\"factorial  of the given no is \",f)"
   ]
  },
  {
   "cell_type": "code",
   "execution_count": 7,
   "metadata": {},
   "outputs": [
    {
     "name": "stdout",
     "output_type": "stream",
     "text": [
      "5\n",
      "Fibonacci series for the given number:\n",
      "0 1 1 2 3 "
     ]
    }
   ],
   "source": [
    "#Create a function and display ‘n’ Fibonacci numbers using Recursion\n",
    "def fib(n):  \n",
    "   if n <= 1:  \n",
    "       return n  \n",
    "   else:  \n",
    "       return(fib(n-1) + fib(n-2))  \n",
    "k= int(input(\"\"))  \n",
    "print(\"Fibonacci series for the given number:\")  \n",
    "for i in range (k):  \n",
    "       print(fib(i),end=\" \")"
   ]
  },
  {
   "cell_type": "code",
   "execution_count": 16,
   "metadata": {},
   "outputs": [
    {
     "name": "stdout",
     "output_type": "stream",
     "text": [
      "no of elements 5\n",
      "1\n",
      "enter value of the element 1\n",
      "2\n",
      "enter value of the element 4\n",
      "3\n",
      "enter value of the element 5\n",
      "4\n",
      "enter value of the element 6\n",
      "5\n",
      "enter value of the element 7\n",
      "sum of all elements is :  23\n"
     ]
    }
   ],
   "source": [
    "#Print sum of list of elements without using sum() function\n",
    "num= []\n",
    "total = 0\n",
    "j = 0\n",
    "n = int(input(\"no of elements \"))\n",
    "for i in range(1, n + 1):\n",
    "    print (i)\n",
    "    value = int(input(\"enter value of the element \"))\n",
    "    num.append(value)\n",
    "\n",
    "while(j < n):\n",
    "    total = total + num[j]\n",
    "    j = j + 1\n",
    "print(\"sum of all elements is : \", total)"
   ]
  },
  {
   "cell_type": "code",
   "execution_count": 19,
   "metadata": {},
   "outputs": [
    {
     "name": "stdout",
     "output_type": "stream",
     "text": [
      "total number of elements : 4\n",
      "value of the elements are: 1\n",
      "value of the elements are: 4\n",
      "value of the elements are: 3\n",
      "value of the elements are: 6\n",
      "\n",
      " Even Numbers are\n",
      "4   6   "
     ]
    }
   ],
   "source": [
    "#print only even numbers from the list\n",
    "num = []\n",
    "n = int(input(\"total number of elements : \"))\n",
    "for i in range(1, n + 1):\n",
    "    v= int(input(\"value of the elements are: \" ))\n",
    "    num.append(v)\n",
    "print(\"\\n Even Numbers are\")\n",
    "for j in range(n):\n",
    "    if(num[j] % 2 == 0):\n",
    "        print(num[j], end = '   ')"
   ]
  },
  {
   "cell_type": "code",
   "execution_count": 23,
   "metadata": {},
   "outputs": [
    {
     "name": "stdout",
     "output_type": "stream",
     "text": [
      "2\n",
      "1\n"
     ]
    }
   ],
   "source": [
    "#Write a Python program to get the smallest number from a list and display index of smallest element of the list\n",
    "\n",
    "list=[2,3,1,5,5]\n",
    "print(list.index(min(list)))\n",
    "print(min(list))"
   ]
  },
  {
   "cell_type": "code",
   "execution_count": 26,
   "metadata": {},
   "outputs": [
    {
     "name": "stdout",
     "output_type": "stream",
     "text": [
      "Enter string: sahas\n",
      "it is palindrome\n"
     ]
    }
   ],
   "source": [
    "#Write a Python function that checks whether a passed string is palindrome or not.\n",
    "def palin(st):\n",
    "    if len(st) < 1:\n",
    "        return True\n",
    "    else:\n",
    "        if st[0] == st[-1]:\n",
    "            return palin(st[1:-1])\n",
    "        else:\n",
    "            return False\n",
    "a=str(input(\"Enter string: \"))\n",
    "if(palin(a)==True):\n",
    "    print(\"it is a palindrome\")\n",
    "else:\n",
    "    print(\"it is not a palindrome\")"
   ]
  },
  {
   "cell_type": "code",
   "execution_count": 28,
   "metadata": {},
   "outputs": [
    {
     "name": "stdout",
     "output_type": "stream",
     "text": [
      "number of elements 5\n",
      "value of the elemnets are 1\n",
      "value of the elemnets are 2\n",
      "value of the elemnets are 6\n",
      "value of the elemnets are 7\n",
      "value of the elemnets are 9\n",
      "total odd numbersare =   3\n",
      "total even numbers are =  2\n"
     ]
    }
   ],
   "source": [
    "#Write a Python program to count the number of even and odd numbers from a series of numbers. \n",
    "\n",
    "num=[]\n",
    "ecount = 0\n",
    "ocount = 0\n",
    "n = int(input(\"number of elements \"))\n",
    "for i in range(1, n+ 1):\n",
    "    value = int(input(\"value of the elemnets are \"))\n",
    "    num.append(value)\n",
    "for j in range(n):\n",
    "    if(num[j] % 2 == 0):\n",
    "        ecount = ecount + 1\n",
    "    else:\n",
    "        ocount = ocount + 1\n",
    "\n",
    "print(\"total odd numbersare =  \", ocount)\n",
    "print(\"total even numbers are = \", ecount)"
   ]
  },
  {
   "cell_type": "code",
   "execution_count": 29,
   "metadata": {},
   "outputs": [
    {
     "name": "stdout",
     "output_type": "stream",
     "text": [
      "0 1 2 4 5 "
     ]
    }
   ],
   "source": [
    "#Write a Python program that prints all the numbers from 0 to 6 except 3 and 6.\n",
    "\n",
    "for x in range(6):\n",
    "    if (x == 3 or x==6):\n",
    "        continue\n",
    "    print(x,end=' ')"
   ]
  },
  {
   "cell_type": "code",
   "execution_count": 31,
   "metadata": {},
   "outputs": [
    {
     "name": "stdout",
     "output_type": "stream",
     "text": [
      "enter a number: 7\n",
      "prime number\n"
     ]
    }
   ],
   "source": [
    "#Write a python function to check whether the given number is prime or not\n",
    "num = int(input(\"enter a number: \"))\n",
    "for i in range(2, num):\n",
    "    if num % i  == 0:\n",
    "        print(\"not prime number\")\n",
    "        break\n",
    "else:\n",
    "    print(\"prime number\")"
   ]
  },
  {
   "cell_type": "code",
   "execution_count": 34,
   "metadata": {},
   "outputs": [
    {
     "name": "stdout",
     "output_type": "stream",
     "text": [
      "12\n",
      " is a adam number\n"
     ]
    }
   ],
   "source": [
    "#Write a python function to check whether the given number is Adam number or not\n",
    "\n",
    "n =input()\n",
    "rev=n[::-1]\n",
    "nsquare=int(n)**2\n",
    "revsquare=int(rev )**2\n",
    "if int(nsquare )==int(str(revsquare)[::-1]):\n",
    "   print(\" is a adam number\")\n",
    "else:\n",
    "   print(\" is not a adam number\")"
   ]
  },
  {
   "cell_type": "code",
   "execution_count": null,
   "metadata": {},
   "outputs": [],
   "source": []
  }
 ],
 "metadata": {
  "kernelspec": {
   "display_name": "Python 3",
   "language": "python",
   "name": "python3"
  },
  "language_info": {
   "codemirror_mode": {
    "name": "ipython",
    "version": 3
   },
   "file_extension": ".py",
   "mimetype": "text/x-python",
   "name": "python",
   "nbconvert_exporter": "python",
   "pygments_lexer": "ipython3",
   "version": "3.7.6"
  }
 },
 "nbformat": 4,
 "nbformat_minor": 4
}
