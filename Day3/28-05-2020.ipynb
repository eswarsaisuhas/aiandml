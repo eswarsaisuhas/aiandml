{
 "cells": [
  {
   "cell_type": "code",
   "execution_count": 1,
   "metadata": {},
   "outputs": [
    {
     "name": "stdout",
     "output_type": "stream",
     "text": [
      "enter a string:hello\n",
      "<class 'str'> <class 'str'>\n"
     ]
    }
   ],
   "source": [
    "s1 = input(\"enter a string:\")\n",
    "s2 = 'good afternoon'\n",
    "print(type(s1),type(s2))"
   ]
  },
  {
   "cell_type": "code",
   "execution_count": 4,
   "metadata": {},
   "outputs": [
    {
     "name": "stdout",
     "output_type": "stream",
     "text": [
      "hellogood afternoon\n",
      "hellohellohello\n",
      "o\n",
      "o\n",
      "llo\n"
     ]
    }
   ],
   "source": [
    "print(s1+s2)\n",
    "print(s1*3)\n",
    "print(s1[4])\n",
    "print(s1[-1])\n",
    "print(s1[2:])"
   ]
  },
  {
   "cell_type": "code",
   "execution_count": 5,
   "metadata": {},
   "outputs": [
    {
     "name": "stdout",
     "output_type": "stream",
     "text": [
      "hello\n",
      "hello\n"
     ]
    }
   ],
   "source": [
    "print(s1[0:5])\n",
    "print(s1[:])"
   ]
  },
  {
   "cell_type": "code",
   "execution_count": 6,
   "metadata": {},
   "outputs": [
    {
     "name": "stdout",
     "output_type": "stream",
     "text": [
      "hlo\n"
     ]
    }
   ],
   "source": [
    "print(s1[::2])"
   ]
  },
  {
   "cell_type": "code",
   "execution_count": 11,
   "metadata": {},
   "outputs": [
    {
     "name": "stdout",
     "output_type": "stream",
     "text": [
      "enter the stringbob\n",
      "the given numebr is a palindrome\n"
     ]
    }
   ],
   "source": [
    "s3=input(\"enter the string\")\n",
    "if(s3 == s3[::-1]):\n",
    "   print(\"the given numebr is a palindrome\")\n",
    "else:\n",
    "   print(\"the given sting is not a palindrome\")"
   ]
  },
  {
   "cell_type": "code",
   "execution_count": 14,
   "metadata": {},
   "outputs": [
    {
     "name": "stdout",
     "output_type": "stream",
     "text": [
      "enter a number101\n",
      "the givejn number is a palindrome\n"
     ]
    }
   ],
   "source": [
    "n=int(input(\"enter a number\"))\n",
    "if(str(n) == str(n)[::-1]):\n",
    "    print(\"the givejn number is a palindrome\")\n",
    "else:\n",
    "    print(\"the given string is not a palindrome\")"
   ]
  },
  {
   "cell_type": "code",
   "execution_count": 15,
   "metadata": {},
   "outputs": [
    {
     "name": "stdout",
     "output_type": "stream",
     "text": [
      "True\n",
      "False\n",
      "False\n",
      "True\n"
     ]
    }
   ],
   "source": [
    "s4=\"python\"\n",
    "print(\"on\" in s4)\n",
    "print(\"xyz\" in s4)\n",
    "print(\"on\" not in s4)\n",
    "print(\"xyz\"not in s4)"
   ]
  },
  {
   "cell_type": "code",
   "execution_count": 16,
   "metadata": {},
   "outputs": [
    {
     "name": "stdout",
     "output_type": "stream",
     "text": [
      "5\n",
      "4\n",
      "e\n",
      "o\n",
      "1\n",
      "c\n"
     ]
    }
   ],
   "source": [
    "s=\"hello\"\n",
    "s1=\"abc1\"\n",
    "print(len(s))\n",
    "print(len(s1))\n",
    "print(min(s))\n",
    "print(max(s))\n",
    "print(min(s1))\n",
    "print(max(s1))\n"
   ]
  },
  {
   "cell_type": "code",
   "execution_count": 18,
   "metadata": {},
   "outputs": [
    {
     "name": "stdout",
     "output_type": "stream",
     "text": [
      "5\n",
      "Hello\n",
      "hello\n"
     ]
    }
   ],
   "source": [
    "s = \"hello\"\n",
    "print(len(s))\n",
    "print(s.capitalize())\n",
    "print(s)"
   ]
  },
  {
   "cell_type": "code",
   "execution_count": 20,
   "metadata": {},
   "outputs": [
    {
     "name": "stdout",
     "output_type": "stream",
     "text": [
      "True\n",
      "False\n",
      "True\n",
      "False\n",
      "False\n",
      "True\n",
      "False\n",
      "True\n",
      "True\n"
     ]
    }
   ],
   "source": [
    "s1 =\"hello\"\n",
    "s2 =\"abc123\"\n",
    "s3 =\"123\"\n",
    "print(s1.isalpha())\n",
    "print(s1.isdigit())\n",
    "print(s1.isalnum())\n",
    "print(s2.isalpha())\n",
    "print(s2.isdigit())\n",
    "print(s2.isalnum())\n",
    "print(s3.isalpha())\n",
    "print(s3.isdigit())\n",
    "print(s3.isalnum())"
   ]
  },
  {
   "cell_type": "code",
   "execution_count": 26,
   "metadata": {},
   "outputs": [
    {
     "name": "stdout",
     "output_type": "stream",
     "text": [
      "False\n",
      "True\n",
      "True\n",
      "False\n"
     ]
    }
   ],
   "source": [
    "s1 =\"python\"\n",
    "s2 =\"PYTHON\"\n",
    "print(s1.isupper())\n",
    "print(s2.isupper())\n",
    "print(s2.isupper())\n",
    "print(s1.isupper())"
   ]
  },
  {
   "cell_type": "code",
   "execution_count": 23,
   "metadata": {},
   "outputs": [
    {
     "name": "stdout",
     "output_type": "stream",
     "text": [
      "PYTHON\n",
      "python\n",
      "python\n"
     ]
    }
   ],
   "source": [
    "print(s1.upper())\n",
    "print(s2.lower())\n",
    "print(s2.swapcase())"
   ]
  },
  {
   "cell_type": "code",
   "execution_count": 31,
   "metadata": {},
   "outputs": [
    {
     "data": {
      "text/plain": [
       "3"
      ]
     },
     "execution_count": 31,
     "metadata": {},
     "output_type": "execute_result"
    }
   ],
   "source": [
    "s = \"abc abc abc\"\n",
    "s.count(\"abc\")"
   ]
  },
  {
   "cell_type": "code",
   "execution_count": 33,
   "metadata": {},
   "outputs": [
    {
     "name": "stdout",
     "output_type": "stream",
     "text": [
      "['abc', 'abc', 'abc']\n",
      "['a', 'b', 'c', 'd']\n"
     ]
    }
   ],
   "source": [
    "print(s.split())\n",
    "s1 = \"a,b,c,d\"\n",
    "print(s1.split(\",\"))"
   ]
  },
  {
   "cell_type": "code",
   "execution_count": 36,
   "metadata": {},
   "outputs": [
    {
     "name": "stdout",
     "output_type": "stream",
     "text": [
      "azc\n"
     ]
    }
   ],
   "source": [
    "s =\"abc\"\n",
    "s = s.replace('b','z')\n",
    "print(s)"
   ]
  },
  {
   "cell_type": "code",
   "execution_count": 40,
   "metadata": {},
   "outputs": [
    {
     "name": "stdout",
     "output_type": "stream",
     "text": [
      "enter position3\n",
      "enter a stringabcabc\n",
      "ababc\n"
     ]
    }
   ],
   "source": [
    "n=int(input(\"enter position\"))\n",
    "s = input(\"enter a string\")\n",
    "print(s.replace(s[n-1],\"\",1))"
   ]
  },
  {
   "cell_type": "code",
   "execution_count": 42,
   "metadata": {},
   "outputs": [
    {
     "name": "stdout",
     "output_type": "stream",
     "text": [
      "1 2 3 4 5 6 7 8 9 10 \n",
      "1 2 3 4 5 6 7 8 9 10 "
     ]
    }
   ],
   "source": [
    "n = 10\n",
    "for i in range(1,n+1):\n",
    "    print(i,end=\" \")\n",
    "print()\n",
    "i=1\n",
    "while i<=n:\n",
    "    print(i,end=\" \")\n",
    "    i+=1"
   ]
  },
  {
   "cell_type": "code",
   "execution_count": 45,
   "metadata": {},
   "outputs": [
    {
     "name": "stdout",
     "output_type": "stream",
     "text": [
      "p\n",
      "p\n",
      "y\n",
      "t\n",
      "h\n",
      "o\n",
      "n\n",
      "p\n",
      "y\n",
      "t\n",
      "h\n",
      "o\n",
      "n\n",
      "y\n",
      "p\n",
      "y\n",
      "t\n",
      "h\n",
      "o\n",
      "n\n",
      "p\n",
      "y\n",
      "t\n",
      "h\n",
      "o\n",
      "n\n",
      "t\n",
      "p\n",
      "y\n",
      "t\n",
      "h\n",
      "o\n",
      "n\n",
      "p\n",
      "y\n",
      "t\n",
      "h\n",
      "o\n",
      "n\n",
      "h\n",
      "p\n",
      "y\n",
      "t\n",
      "h\n",
      "o\n",
      "n\n",
      "p\n",
      "y\n",
      "t\n",
      "h\n",
      "o\n",
      "n\n",
      "o\n",
      "p\n",
      "y\n",
      "t\n",
      "h\n",
      "o\n",
      "n\n",
      "p\n",
      "y\n",
      "t\n",
      "h\n",
      "o\n",
      "n\n",
      "n\n",
      "p\n",
      "y\n",
      "t\n",
      "h\n",
      "o\n",
      "n\n",
      "p\n",
      "y\n",
      "t\n",
      "h\n",
      "o\n",
      "n\n"
     ]
    }
   ],
   "source": [
    "s =\"python\"\n",
    "for i in s:\n",
    "    print(i)\n",
    "    i=0\n",
    "    while i<len(s):\n",
    "        print(s[i])\n",
    "        i+=1\n",
    "    for j  in range (0,len(s)):\n",
    "        print(s[j])"
   ]
  },
  {
   "cell_type": "code",
   "execution_count": null,
   "metadata": {},
   "outputs": [],
   "source": []
  }
 ],
 "metadata": {
  "kernelspec": {
   "display_name": "Python 3",
   "language": "python",
   "name": "python3"
  },
  "language_info": {
   "codemirror_mode": {
    "name": "ipython",
    "version": 3
   },
   "file_extension": ".py",
   "mimetype": "text/x-python",
   "name": "python",
   "nbconvert_exporter": "python",
   "pygments_lexer": "ipython3",
   "version": "3.7.6"
  }
 },
 "nbformat": 4,
 "nbformat_minor": 4
}
