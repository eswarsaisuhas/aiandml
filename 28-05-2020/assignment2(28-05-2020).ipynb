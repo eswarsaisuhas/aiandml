{
 "cells": [
  {
   "cell_type": "code",
   "execution_count": 4,
   "metadata": {},
   "outputs": [
    {
     "name": "stdout",
     "output_type": "stream",
     "text": [
      "enter a string:abC12@ BA#$\n",
      "number of vowels: 2\n",
      "number of consonants: 3\n",
      "number of whitespaces: 1\n",
      "number of special characters: 3\n",
      "number of digits: 2\n"
     ]
    }
   ],
   "source": [
    "#Accept a string from the user and count no.of vowels,consonants and special characters\n",
    "str=input(\"enter a string:\")\n",
    "str=str.lower()\n",
    "vowel=0\n",
    "cons=0\n",
    "space=0\n",
    "digit=0\n",
    "spl=0\n",
    "for i in range(0,len(str)):\n",
    "    if(str[i]=='a' or str[i]=='e' or str[i]=='i' or str[i]=='o' or str[i]=='u'):\n",
    "        vowel += 1\n",
    "    elif(str[i]>'a' and str[i]<'z'):\n",
    "        cons += 1\n",
    "    elif(str[i]==' '):\n",
    "        space += 1\n",
    "    elif(str[i]>='0' and str[i]<='9'):\n",
    "        digit += 1\n",
    "    else:\n",
    "        spl += 1\n",
    "print(\"number of vowels:\",vowel)\n",
    "print(\"number of consonants:\",cons)\n",
    "print(\"number of whitespaces:\",space)\n",
    "print(\"number of special characters:\",spl)\n",
    "print(\"number of digits:\",digit)"
   ]
  },
  {
   "cell_type": "code",
   "execution_count": 7,
   "metadata": {},
   "outputs": [
    {
     "name": "stdout",
     "output_type": "stream",
     "text": [
      "enter stringabbaaccbbaaa\n",
      "no: of pairs of a: 2\n"
     ]
    }
   ],
   "source": [
    "'''count the no.of pairs of a in the given string(Infosys InfyTQ)\n",
    "    string →  \"abbaaccbbaaa\"\n",
    "   output →  2'''\n",
    "s=input(\"enter string\")\n",
    "s=s.lower()\n",
    "count=0\n",
    "i=0\n",
    "while i<(len(s)-1):\n",
    "    if(s[i]=='a'):\n",
    "        if(s[i+1]=='a'):\n",
    "            count += 1\n",
    "            i+=1\n",
    "    i+=1\n",
    "print(\"no: of pairs of a:\",count)"
   ]
  },
  {
   "cell_type": "code",
   "execution_count": 1,
   "metadata": {},
   "outputs": [
    {
     "name": "stdout",
     "output_type": "stream",
     "text": [
      "enter 1st limit1\n",
      "enter 2nd limit10\n",
      "9\n"
     ]
    }
   ],
   "source": [
    "'''Read the input as two limits and Print the output as Palindrome count between the two limits\n",
    "1: Input : 1 10 Output : 9\n",
    "  2: Input : 1 100 Output : 18'''\n",
    "l1=int(input(\"enter 1st limit\"))\n",
    "l2=int(input(\"enter 2nd limit\"))\n",
    "c=0\n",
    "for i in range(l1,l2+1):\n",
    "    if(str(i)==str(i)[::-1]):\n",
    "        c += 1\n",
    "print(c)        \n",
    "        \n",
    "\n",
    "    \n"
   ]
  },
  {
   "cell_type": "code",
   "execution_count": 11,
   "metadata": {},
   "outputs": [
    {
     "name": "stdout",
     "output_type": "stream",
     "text": [
      "enter a string :((((()()()))))()\n",
      "8\n"
     ]
    }
   ],
   "source": [
    "'''string →  \"((((()()()))))()\"\n",
    "        output →  8'''\n",
    "s1=input(\"enter a string :\")\n",
    "count=0\n",
    "i=0\n",
    "while i<(len(s1)-1):\n",
    "    if(s1[i]=='('):\n",
    "        count+=1\n",
    "    i+=1\n",
    "print(count)"
   ]
  },
  {
   "cell_type": "code",
   "execution_count": 12,
   "metadata": {},
   "outputs": [
    {
     "name": "stdout",
     "output_type": "stream",
     "text": [
      "puboif\n"
     ]
    }
   ],
   "source": [
    "#input:orange  →   output : puboif\n",
    "value = 'orange'\n",
    "var1=(chr(ord(value[0])+1))\n",
    "var2=(chr(ord(value[1])+3))\n",
    "var3=(chr(ord(value[2])+1))\n",
    "var4=(chr(ord(value[3])+1))\n",
    "var5=(chr(ord(value[4])+2))\n",
    "var6=(chr(ord(value[5])+1))\n",
    "value=var1+var2+var3+var4+var5+var6\n",
    "print(value)"
   ]
  },
  {
   "cell_type": "code",
   "execution_count": 13,
   "metadata": {},
   "outputs": [
    {
     "name": "stdout",
     "output_type": "stream",
     "text": [
      "enter string:Appli123cation456\n",
      "21\n"
     ]
    }
   ],
   "source": [
    "'''Accept input as a string and display sum of digits as the output \n",
    "input:Appli123cation456 \n",
    "Output: 21'''\n",
    "s=input(\"enter string:\")\n",
    "sum=0\n",
    "for i in range(0,len(s)):\n",
    "    if(s[i]>='0' and s[i]<='9'):\n",
    "        sum += int(s[i])\n",
    "    else:\n",
    "        continue\n",
    "print(sum)"
   ]
  },
  {
   "cell_type": "code",
   "execution_count": 15,
   "metadata": {},
   "outputs": [
    {
     "name": "stdout",
     "output_type": "stream",
     "text": [
      "enter first number26\n",
      "enter second number15\n",
      "enter third number29\n",
      "the median is = 26\n"
     ]
    }
   ],
   "source": [
    "'''Write a Python program to find the median of three values.\n",
    "Expected Output:\n",
    "Input first number: 26                                            \n",
    "Input second number: 15                                                \n",
    "Input third number: 29                                                  \n",
    "The median is 26'''\n",
    "a=input(\"enter first number\")\n",
    "b=input(\"enter second number\")\n",
    "c=input(\"enter third number\")\n",
    "if a>b:\n",
    "    if a<c:\n",
    "        med=a\n",
    "    elif b>c:\n",
    "        med=b\n",
    "    else:\n",
    "        med=c\n",
    "else:\n",
    "    if a>c:\n",
    "        med=a\n",
    "    elif b<c:\n",
    "        med=b\n",
    "    else:\n",
    "        med=c\n",
    "print(\"the median is =\",med)\n",
    "\n",
    "\n",
    "\n"
   ]
  },
  {
   "cell_type": "code",
   "execution_count": 35,
   "metadata": {},
   "outputs": [
    {
     "name": "stdout",
     "output_type": "stream",
     "text": [
      "FizzBuzz\n",
      "1\n",
      "2\n",
      "Fizz\n",
      "4\n",
      "Buzz\n"
     ]
    }
   ],
   "source": [
    "'''Write a Python program which iterates the integers from 1 to 50. \n",
    "For multiples of three print \"Fizz\" instead of the number and\n",
    "for the multiples of five print \"Buzz\".\n",
    "For numbers which are multiples of both three and five print \"FizzBuzz'''\n",
    "for i in range(6):\n",
    "    if(i%3==0 and i%5==0):\n",
    "        print(\"FizzBuzz\")\n",
    "    elif(i%3==0):\n",
    "        print(\"Fizz\")\n",
    "    elif(i%5==0):\n",
    "        print(\"Buzz\")\n",
    "    else:\n",
    "        print(i)"
   ]
  },
  {
   "cell_type": "code",
   "execution_count": 23,
   "metadata": {},
   "outputs": [
    {
     "name": "stdout",
     "output_type": "stream",
     "text": [
      "enter score:0.85\n",
      "B\n"
     ]
    }
   ],
   "source": [
    "'''Write a program to prompt for a score between 0.0 and 1.0. If the score is out of range, print an error. If the score is between 0.0 and 1.0, print a grade using the following table:\n",
    "Score Grade\n",
    ">= 0.9 A\n",
    ">= 0.8 B\n",
    ">= 0.7 C\n",
    ">= 0.6 D\n",
    "< 0.6 F\n",
    "If the user enters a value out of range, print a suitable error message and exit. For the test, enter a score of 0.85'''\n",
    "score=float(input(\"enter score:\"))\n",
    "if(score>=0.0 and score<=1.0):\n",
    "    if(score>=0.9):\n",
    "        print(\"A\")\n",
    "    if(score>=0.8 and score<0.9):\n",
    "        print(\"B\")\n",
    "    if(score>=0.7 and score<0.8):\n",
    "        print(\"C\")\n",
    "    if(score>=0.6 and score<0.7):\n",
    "        print(\"D\")\n",
    "    if(score<0.6):\n",
    "        print(\"F\")\n",
    "else:\n",
    "    print(\"error\")\n",
    "\n",
    "    \n",
    "\n"
   ]
  },
  {
   "cell_type": "code",
   "execution_count": 34,
   "metadata": {},
   "outputs": [
    {
     "name": "stdout",
     "output_type": "stream",
     "text": [
      "enter a number158\n",
      "1009\n"
     ]
    }
   ],
   "source": [
    "''' Accept a number as an input and check whether the given number is palindrome or not\n",
    "if it is a palindrome number print the number on the screen\n",
    "if it is not a palindrome number reverse that number and add it to previous number \n",
    "repeat this until will get a palindrome number and print that palindrome number on the screen\n",
    "input: 127\n",
    "output: 848\n",
    "'''\n",
    "n=int(input(\"enter a number\"))\n",
    "r=0\n",
    "rev=0\n",
    "s=0\n",
    "if(str(n)==str(n)[::-1]):\n",
    "    print(\"palindrome\")\n",
    "else:\n",
    "    rev=int(str(n)[::-1])\n",
    "    s = n+rev\n",
    "    print(s)\n",
    "        "
   ]
  },
  {
   "cell_type": "code",
   "execution_count": null,
   "metadata": {},
   "outputs": [],
   "source": []
  },
  {
   "cell_type": "code",
   "execution_count": null,
   "metadata": {},
   "outputs": [],
   "source": []
  }
 ],
 "metadata": {
  "kernelspec": {
   "display_name": "Python 3",
   "language": "python",
   "name": "python3"
  },
  "language_info": {
   "codemirror_mode": {
    "name": "ipython",
    "version": 3
   },
   "file_extension": ".py",
   "mimetype": "text/x-python",
   "name": "python",
   "nbconvert_exporter": "python",
   "pygments_lexer": "ipython3",
   "version": "3.7.4"
  }
 },
 "nbformat": 4,
 "nbformat_minor": 2
}
