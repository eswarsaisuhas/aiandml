{
 "cells": [
  {
   "cell_type": "markdown",
   "metadata": {},
   "source": [
    "# Session (29-05-20)"
   ]
  },
  {
   "cell_type": "code",
   "execution_count": 7,
   "metadata": {},
   "outputs": [
    {
     "name": "stdout",
     "output_type": "stream",
     "text": [
      "1\n",
      "2\n",
      "3\n",
      "4\n"
     ]
    }
   ],
   "source": [
    "#Break,continue----> Loop control stmts\n",
    "for i in range(1,11):\n",
    "    if (i % 5 == 0):\n",
    "        break;\n",
    "    else:\n",
    "        print(i)"
   ]
  },
  {
   "cell_type": "code",
   "execution_count": 8,
   "metadata": {},
   "outputs": [
    {
     "name": "stdout",
     "output_type": "stream",
     "text": [
      "1\n",
      "2\n",
      "3\n",
      "4\n",
      "6\n",
      "7\n",
      "8\n",
      "9\n"
     ]
    }
   ],
   "source": [
    "# continue\n",
    "for i in range(1,11):\n",
    "    if (i % 5 == 0):\n",
    "        continue\n",
    "    else:\n",
    "        print(i)"
   ]
  },
  {
   "cell_type": "markdown",
   "metadata": {},
   "source": [
    "Que:write a program to validate username and password given by the user .If the user gives wrong credentials it should ask for username and password again again until  the user gives correct details."
   ]
  },
  {
   "cell_type": "code",
   "execution_count": 1,
   "metadata": {},
   "outputs": [
    {
     "name": "stdout",
     "output_type": "stream",
     "text": [
      "enter the user name: python\n",
      "enter the passwordwsdef\n",
      "enter the user name: python\n",
      "enter the passwordabc123\n",
      "Login successful!!\n"
     ]
    }
   ],
   "source": [
    "\n",
    "while(1):\n",
    "    uname=input(\"enter the user name: \")\n",
    "    if(uname==\"python\" ):\n",
    "        password=input(\"enter the password\")\n",
    "        if password==\"abc123\":\n",
    "            print(\"Login successful!!\")\n",
    "            break\n",
    "        else:\n",
    "            continue\n"
   ]
  },
  {
   "cell_type": "code",
   "execution_count": 2,
   "metadata": {},
   "outputs": [
    {
     "name": "stdout",
     "output_type": "stream",
     "text": [
      "success\n"
     ]
    }
   ],
   "source": [
    "# pass keyword ->creates an empty block\n",
    "if 12>13:\n",
    "    pass\n",
    "else :\n",
    "    print(\"success\")"
   ]
  },
  {
   "cell_type": "markdown",
   "metadata": {},
   "source": [
    "### FUNCTIONS\n",
    "Block of stmnts\n",
    "Two types:\n",
    "    1. Predefined functions \n",
    "        len(),print(),input(),chr(),ord()\n",
    "    2. Userdefined functions"
   ]
  },
  {
   "cell_type": "markdown",
   "metadata": {},
   "source": [
    "```def fun_name(parameters):\n",
    "        stmts\n",
    "        return```"
   ]
  },
  {
   "cell_type": "code",
   "execution_count": 9,
   "metadata": {},
   "outputs": [
    {
     "name": "stdout",
     "output_type": "stream",
     "text": [
      "hello  Prasad\n"
     ]
    }
   ],
   "source": [
    "def name(user):\n",
    "    print(\"hello \",user)\n",
    "name(\"Prasad\")"
   ]
  },
  {
   "cell_type": "code",
   "execution_count": 15,
   "metadata": {},
   "outputs": [
    {
     "name": "stdout",
     "output_type": "stream",
     "text": [
      "(30, -10, 200, 0.5)\n",
      "(300, -100, 20000, 0.5)\n"
     ]
    }
   ],
   "source": [
    "def add(a,b):\n",
    "    return(a+b,a-b,a*b,a/b)\n",
    "print(add(10,20))\n",
    "print(add(100,200))"
   ]
  },
  {
   "cell_type": "code",
   "execution_count": 14,
   "metadata": {},
   "outputs": [
    {
     "name": "stdout",
     "output_type": "stream",
     "text": [
      "-10\n"
     ]
    }
   ],
   "source": [
    "# MUltiple return values(unpacking)\n",
    "def add(a,b):\n",
    "    return a+b,a-b,a*b,a/b\n",
    "#unpacking tuple values in 4 vars\n",
    "addi,sub,mul,div = add(10,20)\n",
    "print(sub)"
   ]
  },
  {
   "cell_type": "markdown",
   "metadata": {},
   "source": [
    "### Different types of arguments\n",
    "1. required pos arg\n",
    "2. def args\n",
    "3. keyword args\n",
    "4. var len args"
   ]
  },
  {
   "cell_type": "code",
   "execution_count": 22,
   "metadata": {},
   "outputs": [
    {
     "data": {
      "text/plain": [
       "30"
      ]
     },
     "execution_count": 22,
     "metadata": {},
     "output_type": "execute_result"
    }
   ],
   "source": [
    "def add(a,b):\n",
    "    return(a+b)\n",
    "add(10,20)\n",
    "##add(10)\n",
    "#add(20,30,30) -->error"
   ]
  },
  {
   "cell_type": "code",
   "execution_count": 20,
   "metadata": {},
   "outputs": [
    {
     "name": "stdout",
     "output_type": "stream",
     "text": [
      "200\n",
      "400\n"
     ]
    }
   ],
   "source": [
    "# Default args are only to the right or end pf parameters\n",
    "def add(a,b=100):\n",
    "    return(a+b)\n",
    "print(add(100))\n",
    "print(add(200,200))"
   ]
  },
  {
   "cell_type": "code",
   "execution_count": 24,
   "metadata": {},
   "outputs": [
    {
     "name": "stdout",
     "output_type": "stream",
     "text": [
      "20\n",
      "10\n"
     ]
    },
    {
     "data": {
      "text/plain": [
       "30"
      ]
     },
     "execution_count": 24,
     "metadata": {},
     "output_type": "execute_result"
    }
   ],
   "source": [
    "# keyword args:\n",
    "\n",
    "def add(a,b):\n",
    "    print(a)\n",
    "    print(b)\n",
    "    return(a+b)\n",
    "add(b=10,a=20)"
   ]
  },
  {
   "cell_type": "code",
   "execution_count": 29,
   "metadata": {},
   "outputs": [
    {
     "name": "stdout",
     "output_type": "stream",
     "text": [
      "30\n",
      "251\n",
      "74\n"
     ]
    }
   ],
   "source": [
    "#(1,2,3,4,5,6) --->tuple enclosed by() and seperated by \",\"\n",
    "# variable length args\n",
    "def add(*a):\n",
    "    m=1\n",
    "    for i in a:\n",
    "        m=m*i\n",
    "    #return m\n",
    "    return sum(a)\n",
    "print(add(10,20))\n",
    "print(add(10,202,39))\n",
    "print(add(23,45,6))"
   ]
  },
  {
   "cell_type": "code",
   "execution_count": 30,
   "metadata": {},
   "outputs": [
    {
     "name": "stdout",
     "output_type": "stream",
     "text": [
      "36\n",
      "256\n"
     ]
    }
   ],
   "source": [
    "# Nested functions\n",
    "def sq(a):\n",
    "    return a*a\n",
    "def p4(x):\n",
    "    return sq(x)*sq(x)\n",
    "print(sq(6))\n",
    "print(p4(4))"
   ]
  },
  {
   "cell_type": "code",
   "execution_count": 58,
   "metadata": {},
   "outputs": [
    {
     "name": "stdout",
     "output_type": "stream",
     "text": [
      "Enter n:10\n",
      "factorial of 10 numbers is  3628800\n"
     ]
    }
   ],
   "source": [
    "#recursion\n",
    "#factorial\n",
    "n =int(input(\"Enter n:\"))\n",
    "def fac(n):\n",
    "    if(n == 1):\n",
    "        return 1\n",
    "    else :\n",
    "        return n*fac(n-1)     \n",
    "print(\"factorial of\" ,n,\"numbers is \",fac(n))"
   ]
  },
  {
   "cell_type": "code",
   "execution_count": 3,
   "metadata": {},
   "outputs": [
    {
     "name": "stdout",
     "output_type": "stream",
     "text": [
      "Enter n:10\n",
      "0 1 1 2 3 5 8 13 21 34 55 "
     ]
    }
   ],
   "source": [
    "# fibonacci\n",
    "n =int(input(\"Enter n:\"))\n",
    "def fib(n):\n",
    "    if(n==0):\n",
    "        return 0\n",
    "    elif n==1:\n",
    "        return 1\n",
    "    else :\n",
    "        return fib(n-1)+fib(n-2)\n",
    "for i in range(0,n+1):\n",
    "    print(fib(i),end=\" \")"
   ]
  },
  {
   "cell_type": "markdown",
   "metadata": {},
   "source": [
    "###  Data structures:\n",
    "1. List :\n",
    "    - [] elements seperated by,\n",
    "    - indexed\n",
    "    - ordered\n",
    "    - duplicate values\n",
    "    - mutable\n",
    "    - any type of values"
   ]
  },
  {
   "cell_type": "code",
   "execution_count": 32,
   "metadata": {},
   "outputs": [
    {
     "name": "stdout",
     "output_type": "stream",
     "text": [
      "<class 'list'>\n"
     ]
    }
   ],
   "source": [
    "list1 = [12,4,3.4,'asd']\n",
    "print(type(list1))"
   ]
  },
  {
   "cell_type": "code",
   "execution_count": 39,
   "metadata": {},
   "outputs": [
    {
     "name": "stdout",
     "output_type": "stream",
     "text": [
      "[1, 2, 3, 4, 5, 6]\n",
      "[1, 2, 3, 1, 2, 3, 1, 2, 3]\n",
      "2\n",
      "[2, 3]\n",
      "True\n",
      "False\n"
     ]
    }
   ],
   "source": [
    "# operators of lists: +,*,[],[:],in ,not in\n",
    "a  = [1,2,3]\n",
    "b =[4,5,6]\n",
    "print(a+b) #concat\n",
    "print(a*3) #repeatition\n",
    "print(a[1]) #2\n",
    "print(a[1:3]) #slice\n",
    "print( 2 in a)\n",
    "print(3 in b)"
   ]
  },
  {
   "cell_type": "code",
   "execution_count": 43,
   "metadata": {},
   "outputs": [
    {
     "name": "stdout",
     "output_type": "stream",
     "text": [
      "4\n",
      "1 4\n",
      "['P', 'r', 'a', 's', 'a', 'd']\n"
     ]
    }
   ],
   "source": [
    "# BUILTIN function of lists\n",
    "a = [\"x\",\"y\",\"z\",2]\n",
    "b = [1,2,3,4]\n",
    "s1 = \"Prasad\"\n",
    "print(len(a))\n",
    "print(min(b),max(b))\n",
    "c = list(s1) #coverts str to list\n",
    "print(c)"
   ]
  },
  {
   "cell_type": "code",
   "execution_count": null,
   "metadata": {},
   "outputs": [],
   "source": [
    "def fib(n):\n",
    "    if(n==0 or n==1):\n",
    "        return n\n",
    "    else :\n",
    "        return fib(n-1)+fib(n-2)\n",
    "fib(100)"
   ]
  },
  {
   "cell_type": "code",
   "execution_count": null,
   "metadata": {},
   "outputs": [],
   "source": []
  }
 ],
 "metadata": {
  "kernelspec": {
   "display_name": "Python 3",
   "language": "python",
   "name": "python3"
  },
  "language_info": {
   "codemirror_mode": {
    "name": "ipython",
    "version": 3
   },
   "file_extension": ".py",
   "mimetype": "text/x-python",
   "name": "python",
   "nbconvert_exporter": "python",
   "pygments_lexer": "ipython3",
   "version": "3.7.4"
  }
 },
 "nbformat": 4,
 "nbformat_minor": 2
}
