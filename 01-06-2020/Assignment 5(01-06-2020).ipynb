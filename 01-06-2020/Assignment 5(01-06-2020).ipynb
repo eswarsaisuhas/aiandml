{
 "cells": [
  {
   "cell_type": "markdown",
   "metadata": {},
   "source": [
    "## CSE-221710304030-K Eswar Sai Suhas Reddy"
   ]
  },
  {
   "cell_type": "code",
   "execution_count": 1,
   "metadata": {},
   "outputs": [
    {
     "name": "stdout",
     "output_type": "stream",
     "text": [
      "telllion&7\n",
      "enter yes or noyes\n",
      "beatmonkey*10\n",
      "enter yes or noyes\n",
      "buyant^8\n",
      "enter yes or noyes\n",
      "runsnake^6\n",
      "enter yes or noyes\n",
      "beatant%8\n",
      "enter yes or noyes\n",
      "beatant@3\n",
      "enter yes or noyes\n",
      "sleepmonkey@1\n",
      "enter yes or nono\n"
     ]
    }
   ],
   "source": [
    "import random\n",
    "k=\"yes\"\n",
    "while(k==\"yes\"):\n",
    "    verb=[\"work\",\"sleep\",\"pull\",\"push\",\"beat\",\"buy\",\"cut\",\"eat\",\"run\",\"tell\"]\n",
    "    noun=[\"tiger\",\"lion\",\"dog\",\"cat\",\"snake\",\"frog\",\"monkey\",\"rat\",\"ant\",\"fish\"]\n",
    "    schar=[\"!\",\"@\",\"#\",\"$\",\"%\",\"^\",\"&\",\"*\"]\n",
    "    num=[1,2,3,4,5,6,7,8,9,10]\n",
    "    r1=random.choice(verb)\n",
    "    r2=random.choice(noun)\n",
    "    r3=random.choice(schar)\n",
    "    r4=random.choice(num)\n",
    "    print(r1,end=\"\")\n",
    "    print(r2,end=\"\")\n",
    "    print(r3,end=\"\")\n",
    "    print(r4)\n",
    "    k=input(\"enter yes or no\")"
   ]
  },
  {
   "cell_type": "code",
   "execution_count": null,
   "metadata": {},
   "outputs": [],
   "source": []
  }
 ],
 "metadata": {
  "kernelspec": {
   "display_name": "Python 3",
   "language": "python",
   "name": "python3"
  },
  "language_info": {
   "codemirror_mode": {
    "name": "ipython",
    "version": 3
   },
   "file_extension": ".py",
   "mimetype": "text/x-python",
   "name": "python",
   "nbconvert_exporter": "python",
   "pygments_lexer": "ipython3",
   "version": "3.7.6"
  }
 },
 "nbformat": 4,
 "nbformat_minor": 4
}
