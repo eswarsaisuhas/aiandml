{
 "cells": [
  {
   "cell_type": "code",
   "execution_count": 4,
   "metadata": {},
   "outputs": [
    {
     "name": "stdout",
     "output_type": "stream",
     "text": [
      "enter a number11\n",
      "not an Adam number\n"
     ]
    }
   ],
   "source": [
    "#adam number:\n",
    "n =int(input(\"enter a number\"))\n",
    "if int(str(n**2)[::-1]) == int(str (n)[::-1]):\n",
    "    print(\"Adam number\")\n",
    "else:\n",
    "    print(\"not an Adam number\")"
   ]
  },
  {
   "cell_type": "code",
   "execution_count": 6,
   "metadata": {},
   "outputs": [
    {
     "name": "stdout",
     "output_type": "stream",
     "text": [
      "enter a number12\n",
      "Adam number\n"
     ]
    }
   ],
   "source": [
    "#Conditional operator :[on True] if [condition] else [on false]\n",
    "n = int(input(\"enter a number\"))#12\n",
    "print(\"Adam number\") if int(str(n**2)[::-1]) == int(str(n)[::-1])**2 else print(\"Not an Adam Number\")\n"
   ]
  },
  {
   "cell_type": "code",
   "execution_count": 9,
   "metadata": {},
   "outputs": [
    {
     "name": "stdout",
     "output_type": "stream",
     "text": [
      "enter a number12\n",
      "Adam number\n"
     ]
    }
   ],
   "source": [
    "def Adam(n):\n",
    "    if int(str(n**2)[::-1]) == int(str (n)[::-1])**2:\n",
    "        return True\n",
    "    else:\n",
    "        return False\n",
    "value = int(input(\"enter a number\"))\n",
    "if Adam(value):\n",
    "     print(\"Adam number\")\n",
    "else:\n",
    "    print(\"not an Adam number\")"
   ]
  },
  {
   "cell_type": "code",
   "execution_count": 13,
   "metadata": {},
   "outputs": [
    {
     "data": {
      "text/plain": [
       "120"
      ]
     },
     "execution_count": 13,
     "metadata": {},
     "output_type": "execute_result"
    }
   ],
   "source": [
    "#Recursive Functions:\n",
    "#Factorial of number\n",
    "def Factorial(n):\n",
    "    if n == 0 or n == 1:\n",
    "        return 1\n",
    "    else:\n",
    "        return n*Factorial(n-1)\n",
    "    \n",
    "Factorial(5)"
   ]
  },
  {
   "cell_type": "code",
   "execution_count": 23,
   "metadata": {},
   "outputs": [
    {
     "ename": "IndentationError",
     "evalue": "unindent does not match any outer indentation level (<tokenize>, line 5)",
     "output_type": "error",
     "traceback": [
      "\u001b[1;36m  File \u001b[1;32m\"<tokenize>\"\u001b[1;36m, line \u001b[1;32m5\u001b[0m\n\u001b[1;33m    else:\u001b[0m\n\u001b[1;37m    ^\u001b[0m\n\u001b[1;31mIndentationError\u001b[0m\u001b[1;31m:\u001b[0m unindent does not match any outer indentation level\n"
     ]
    }
   ],
   "source": [
    "#Lower bound and upper bound\n",
    "def display(lb,ub):\n",
    "     if lb > ub:\n",
    "            return\n",
    "        else:\n",
    "             print(lb,end=\" \")\n",
    "                display(lb+1,ub)\n",
    "    \n",
    "\n",
    "lb=int(input())\n",
    "ub=int(input())\n",
    "display(lb,ub)"
   ]
  },
  {
   "cell_type": "code",
   "execution_count": 25,
   "metadata": {},
   "outputs": [
    {
     "name": "stdout",
     "output_type": "stream",
     "text": [
      "34\n",
      "0.0010025501251220703\n"
     ]
    }
   ],
   "source": [
    "#fibonacci series: 0,1,1,2,3,4,5,...\n",
    "import time\n",
    "def recur_fibo(n):\n",
    "    if n == 1:\n",
    "        return 0\n",
    "    elif n == 2:\n",
    "        return 1\n",
    "    else:\n",
    "        return recur_fibo(n-1)+recur_fibo(n-2)\n",
    "prev = time.time()\n",
    "print(recur_fibo(10))\n",
    "print(time.time()-prev)"
   ]
  },
  {
   "cell_type": "code",
   "execution_count": 37,
   "metadata": {},
   "outputs": [
    {
     "name": "stdout",
     "output_type": "stream",
     "text": [
      "1134903170\n",
      "0.001001119613647461\n"
     ]
    }
   ],
   "source": [
    "import time\n",
    "fibs = [0,1]\n",
    "def fibonacci(n):\n",
    "    if n <= len(fibs):\n",
    "        return fibs[n-1]\n",
    "    else:\n",
    "        fibs.append(fibs[len(fibs)-1]+fibs[len(fibs)-2])\n",
    "        return fibonacci(n)\n",
    "prev = time.time()\n",
    "print(fibonacci(46))\n",
    "print(time.time()-prev)"
   ]
  },
  {
   "cell_type": "code",
   "execution_count": null,
   "metadata": {},
   "outputs": [],
   "source": []
  }
 ],
 "metadata": {
  "kernelspec": {
   "display_name": "Python 3",
   "language": "python",
   "name": "python3"
  },
  "language_info": {
   "codemirror_mode": {
    "name": "ipython",
    "version": 3
   },
   "file_extension": ".py",
   "mimetype": "text/x-python",
   "name": "python",
   "nbconvert_exporter": "python",
   "pygments_lexer": "ipython3",
   "version": "3.7.4"
  }
 },
 "nbformat": 4,
 "nbformat_minor": 2
}
